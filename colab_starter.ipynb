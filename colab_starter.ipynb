{
 "cells": [
  {
   "cell_type": "markdown",
   "metadata": {
    "colab_type": "text",
    "id": "view-in-github"
   },
   "source": [
    "<a href=\"https://colab.research.google.com/github/abhishekkrthakur/colabcode/blob/master/colab_starter.ipynb\" target=\"_parent\"><img src=\"https://colab.research.google.com/assets/colab-badge.svg\" alt=\"Open In Colab\"/></a>"
   ]
  },
  {
   "cell_type": "code",
   "execution_count": 1,
   "metadata": {
    "colab": {
     "base_uri": "https://localhost:8080/",
     "height": 228
    },
    "colab_type": "code",
    "id": "DXPMB4syxTCF",
    "outputId": "c2ef6e4d-16f6-410b-e4d9-e480a89469f5"
   },
   "outputs": [
    {
     "name": "stdout",
     "output_type": "stream",
     "text": [
      "Looking in indexes: https://pypi.org/simple, https://pypi.ngc.nvidia.com\n",
      "Collecting imcode\n",
      "  Downloading imcode-0.1.0.tar.gz (3.7 kB)\n",
      "Requirement already satisfied: pyngrok>=5.0.0 in /home/smartcow/anaconda3/lib/python3.7/site-packages/pyngrok-5.0.0-py3.7.egg (from imcode) (5.0.0)\n",
      "Requirement already satisfied: PyYAML in /home/smartcow/anaconda3/lib/python3.7/site-packages (from pyngrok>=5.0.0->imcode) (5.3)\n",
      "Building wheels for collected packages: imcode\n",
      "  Building wheel for imcode (setup.py) ... \u001b[?25ldone\n",
      "\u001b[?25h  Created wheel for imcode: filename=imcode-0.1.0-py3-none-any.whl size=4439 sha256=3bf94854f463c474622053542331f4bb3b80da9e35300b926b398be40144ea09\n",
      "  Stored in directory: /tmp/pip-ephem-wheel-cache-fmyw1idb/wheels/a4/b8/9d/91b8fb0deccc876874865dba034752a7512ba9933f5838d2e3\n",
      "Successfully built imcode\n",
      "Installing collected packages: imcode\n",
      "Successfully installed imcode-0.1.0\n"
     ]
    }
   ],
   "source": [
    "!pip install imcode"
   ]
  },
  {
   "cell_type": "code",
   "execution_count": null,
   "metadata": {
    "colab": {
     "base_uri": "https://localhost:8080/",
     "height": 147
    },
    "colab_type": "code",
    "id": "M6bGiCAGxilQ",
    "outputId": "5c6803f3-b9b3-4de3-954d-9e53b5b83f42"
   },
   "outputs": [
    {
     "name": "stdout",
     "output_type": "stream",
     "text": [
      "[2020-12-06T16:53:48.050Z] info  code-server url https://6c31affc628f.ngrok.io\n",
      "[2020-12-06T16:53:48.633Z] info  code-server 3.7.4 11f53784c58f68e7f4c5b3b8dae9407caa41725b\n",
      "[2020-12-06T16:53:48.633Z] info  Using user-data-dir ~/.local/share/code-server\n",
      "[2020-12-06T16:53:48.642Z] info  Using config file ~/.config/code-server/config.yaml\n",
      "[2020-12-06T16:53:48.642Z] info  HTTP server listening on http://127.0.0.1:10000 \n",
      "[2020-12-06T16:53:48.642Z] info    - Authentication is enabled\n",
      "[2020-12-06T16:53:48.642Z] info      - Using password from $PASSWORD\n",
      "[2020-12-06T16:53:48.642Z] info    - Not serving HTTPS\n"
     ]
    }
   ],
   "source": [
    "from imcode import ImCode\n",
    "ImCode(port=10000, password=\"nitin\")"
   ]
  }
 ],
 "metadata": {
  "colab": {
   "include_colab_link": true,
   "name": "colab_starter.ipynb",
   "provenance": []
  },
  "kernelspec": {
   "display_name": "Python 3",
   "language": "python",
   "name": "python3"
  },
  "language_info": {
   "codemirror_mode": {
    "name": "ipython",
    "version": 3
   },
   "file_extension": ".py",
   "mimetype": "text/x-python",
   "name": "python",
   "nbconvert_exporter": "python",
   "pygments_lexer": "ipython3",
   "version": "3.7.6"
  }
 },
 "nbformat": 4,
 "nbformat_minor": 1
}
